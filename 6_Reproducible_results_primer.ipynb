{
 "cells": [
  {
   "cell_type": "markdown",
   "metadata": {},
   "source": [
    "# Intro\n",
    "This notebook is used to showcases which precautions to take to ensure you can iteratively develop Neural Networks and get reproducible results. Specifically for the case where you go back and forth between preprocessing and training cells, experimenting with differnt settings. For the complete write-up and explanation, please read my blogpost [here](https://medium.com/r/?url=https%3A%2F%2Ftowardsdatascience.com%2Ftagged%2Fexploring-nasa-turbofan)"
   ]
  },
  {
   "cell_type": "code",
   "execution_count": 1,
   "metadata": {},
   "outputs": [],
   "source": [
    "%matplotlib inline\n",
    "import os\n",
    "seed = 42\n",
    "os.environ['PYTHONHASHSEED']=str(seed)\n",
    "\n",
    "import pandas as pd\n",
    "import numpy as np\n",
    "import random\n",
    "import matplotlib.pyplot as plt\n",
    "import seaborn as sns; sns.set()\n",
    "\n",
    "from sklearn.preprocessing import MinMaxScaler\n",
    "from sklearn.model_selection import GroupShuffleSplit\n",
    "from sklearn.metrics import mean_squared_error, r2_score"
   ]
  },
  {
   "cell_type": "code",
   "execution_count": 2,
   "metadata": {},
   "outputs": [],
   "source": [
    "import tensorflow as tf\n",
    "from tensorflow.keras import Sequential\n",
    "from tensorflow.keras.layers import Dense"
   ]
  },
  {
   "cell_type": "markdown",
   "metadata": {},
   "source": [
    "## step 1: set random seeds to get reproducible results\n",
    "\n",
    "Initial weights of neural networks are generated randomly. Due to this randomness, results may vary across training cycles, making it very difficult to judge whether the changes in model performance are because of this randomness or actuall improvements. Therefore we wan't to control the random initialization to allow comparing between iterations.\n"
   ]
  },
  {
   "cell_type": "code",
   "execution_count": 3,
   "metadata": {},
   "outputs": [],
   "source": [
    "random.seed(seed)\n",
    "np.random.seed(seed)\n",
    "tf.random.set_seed(seed)"
   ]
  },
  {
   "cell_type": "code",
   "execution_count": 4,
   "metadata": {},
   "outputs": [],
   "source": [
    "dir_path = './CMAPSSData/'\n",
    "train_file = 'train_FD001.txt'\n",
    "test_file = 'test_FD001.txt'\n",
    "index_names = ['unit_nr', 'time_cycles']\n",
    "setting_names = ['setting_1', 'setting_2', 'setting_3']\n",
    "sensor_names = ['s_{}'.format(i+1) for i in range(0,21)]\n",
    "col_names = index_names + setting_names + sensor_names\n",
    "train = pd.read_csv((dir_path+train_file), sep='\\s+', header=None, \n",
    "                 names=col_names)\n",
    "test = pd.read_csv((dir_path+test_file), sep='\\s+', header=None, \n",
    "                 names=col_names)\n",
    "y_test = pd.read_csv((dir_path+'RUL_FD001.txt'), sep='\\s+', header=None, \n",
    "                 names=['RemainingUsefulLife'])"
   ]
  },
  {
   "cell_type": "code",
   "execution_count": 5,
   "metadata": {},
   "outputs": [
    {
     "name": "stdout",
     "output_type": "stream",
     "text": [
      "(20631, 26)\n"
     ]
    },
    {
     "data": {
      "text/html": [
       "<div>\n",
       "<style scoped>\n",
       "    .dataframe tbody tr th:only-of-type {\n",
       "        vertical-align: middle;\n",
       "    }\n",
       "\n",
       "    .dataframe tbody tr th {\n",
       "        vertical-align: top;\n",
       "    }\n",
       "\n",
       "    .dataframe thead th {\n",
       "        text-align: right;\n",
       "    }\n",
       "</style>\n",
       "<table border=\"1\" class=\"dataframe\">\n",
       "  <thead>\n",
       "    <tr style=\"text-align: right;\">\n",
       "      <th></th>\n",
       "      <th>unit_nr</th>\n",
       "      <th>time_cycles</th>\n",
       "      <th>setting_1</th>\n",
       "      <th>setting_2</th>\n",
       "      <th>setting_3</th>\n",
       "      <th>s_1</th>\n",
       "      <th>s_2</th>\n",
       "      <th>s_3</th>\n",
       "      <th>s_4</th>\n",
       "      <th>s_5</th>\n",
       "      <th>...</th>\n",
       "      <th>s_12</th>\n",
       "      <th>s_13</th>\n",
       "      <th>s_14</th>\n",
       "      <th>s_15</th>\n",
       "      <th>s_16</th>\n",
       "      <th>s_17</th>\n",
       "      <th>s_18</th>\n",
       "      <th>s_19</th>\n",
       "      <th>s_20</th>\n",
       "      <th>s_21</th>\n",
       "    </tr>\n",
       "  </thead>\n",
       "  <tbody>\n",
       "    <tr>\n",
       "      <td>0</td>\n",
       "      <td>1</td>\n",
       "      <td>1</td>\n",
       "      <td>-0.0007</td>\n",
       "      <td>-0.0004</td>\n",
       "      <td>100.0</td>\n",
       "      <td>518.67</td>\n",
       "      <td>641.82</td>\n",
       "      <td>1589.70</td>\n",
       "      <td>1400.60</td>\n",
       "      <td>14.62</td>\n",
       "      <td>...</td>\n",
       "      <td>521.66</td>\n",
       "      <td>2388.02</td>\n",
       "      <td>8138.62</td>\n",
       "      <td>8.4195</td>\n",
       "      <td>0.03</td>\n",
       "      <td>392</td>\n",
       "      <td>2388</td>\n",
       "      <td>100.0</td>\n",
       "      <td>39.06</td>\n",
       "      <td>23.4190</td>\n",
       "    </tr>\n",
       "    <tr>\n",
       "      <td>1</td>\n",
       "      <td>1</td>\n",
       "      <td>2</td>\n",
       "      <td>0.0019</td>\n",
       "      <td>-0.0003</td>\n",
       "      <td>100.0</td>\n",
       "      <td>518.67</td>\n",
       "      <td>642.15</td>\n",
       "      <td>1591.82</td>\n",
       "      <td>1403.14</td>\n",
       "      <td>14.62</td>\n",
       "      <td>...</td>\n",
       "      <td>522.28</td>\n",
       "      <td>2388.07</td>\n",
       "      <td>8131.49</td>\n",
       "      <td>8.4318</td>\n",
       "      <td>0.03</td>\n",
       "      <td>392</td>\n",
       "      <td>2388</td>\n",
       "      <td>100.0</td>\n",
       "      <td>39.00</td>\n",
       "      <td>23.4236</td>\n",
       "    </tr>\n",
       "    <tr>\n",
       "      <td>2</td>\n",
       "      <td>1</td>\n",
       "      <td>3</td>\n",
       "      <td>-0.0043</td>\n",
       "      <td>0.0003</td>\n",
       "      <td>100.0</td>\n",
       "      <td>518.67</td>\n",
       "      <td>642.35</td>\n",
       "      <td>1587.99</td>\n",
       "      <td>1404.20</td>\n",
       "      <td>14.62</td>\n",
       "      <td>...</td>\n",
       "      <td>522.42</td>\n",
       "      <td>2388.03</td>\n",
       "      <td>8133.23</td>\n",
       "      <td>8.4178</td>\n",
       "      <td>0.03</td>\n",
       "      <td>390</td>\n",
       "      <td>2388</td>\n",
       "      <td>100.0</td>\n",
       "      <td>38.95</td>\n",
       "      <td>23.3442</td>\n",
       "    </tr>\n",
       "    <tr>\n",
       "      <td>3</td>\n",
       "      <td>1</td>\n",
       "      <td>4</td>\n",
       "      <td>0.0007</td>\n",
       "      <td>0.0000</td>\n",
       "      <td>100.0</td>\n",
       "      <td>518.67</td>\n",
       "      <td>642.35</td>\n",
       "      <td>1582.79</td>\n",
       "      <td>1401.87</td>\n",
       "      <td>14.62</td>\n",
       "      <td>...</td>\n",
       "      <td>522.86</td>\n",
       "      <td>2388.08</td>\n",
       "      <td>8133.83</td>\n",
       "      <td>8.3682</td>\n",
       "      <td>0.03</td>\n",
       "      <td>392</td>\n",
       "      <td>2388</td>\n",
       "      <td>100.0</td>\n",
       "      <td>38.88</td>\n",
       "      <td>23.3739</td>\n",
       "    </tr>\n",
       "    <tr>\n",
       "      <td>4</td>\n",
       "      <td>1</td>\n",
       "      <td>5</td>\n",
       "      <td>-0.0019</td>\n",
       "      <td>-0.0002</td>\n",
       "      <td>100.0</td>\n",
       "      <td>518.67</td>\n",
       "      <td>642.37</td>\n",
       "      <td>1582.85</td>\n",
       "      <td>1406.22</td>\n",
       "      <td>14.62</td>\n",
       "      <td>...</td>\n",
       "      <td>522.19</td>\n",
       "      <td>2388.04</td>\n",
       "      <td>8133.80</td>\n",
       "      <td>8.4294</td>\n",
       "      <td>0.03</td>\n",
       "      <td>393</td>\n",
       "      <td>2388</td>\n",
       "      <td>100.0</td>\n",
       "      <td>38.90</td>\n",
       "      <td>23.4044</td>\n",
       "    </tr>\n",
       "  </tbody>\n",
       "</table>\n",
       "<p>5 rows × 26 columns</p>\n",
       "</div>"
      ],
      "text/plain": [
       "   unit_nr  time_cycles  setting_1  setting_2  setting_3     s_1     s_2  \\\n",
       "0        1            1    -0.0007    -0.0004      100.0  518.67  641.82   \n",
       "1        1            2     0.0019    -0.0003      100.0  518.67  642.15   \n",
       "2        1            3    -0.0043     0.0003      100.0  518.67  642.35   \n",
       "3        1            4     0.0007     0.0000      100.0  518.67  642.35   \n",
       "4        1            5    -0.0019    -0.0002      100.0  518.67  642.37   \n",
       "\n",
       "       s_3      s_4    s_5  ...    s_12     s_13     s_14    s_15  s_16  s_17  \\\n",
       "0  1589.70  1400.60  14.62  ...  521.66  2388.02  8138.62  8.4195  0.03   392   \n",
       "1  1591.82  1403.14  14.62  ...  522.28  2388.07  8131.49  8.4318  0.03   392   \n",
       "2  1587.99  1404.20  14.62  ...  522.42  2388.03  8133.23  8.4178  0.03   390   \n",
       "3  1582.79  1401.87  14.62  ...  522.86  2388.08  8133.83  8.3682  0.03   392   \n",
       "4  1582.85  1406.22  14.62  ...  522.19  2388.04  8133.80  8.4294  0.03   393   \n",
       "\n",
       "   s_18   s_19   s_20     s_21  \n",
       "0  2388  100.0  39.06  23.4190  \n",
       "1  2388  100.0  39.00  23.4236  \n",
       "2  2388  100.0  38.95  23.3442  \n",
       "3  2388  100.0  38.88  23.3739  \n",
       "4  2388  100.0  38.90  23.4044  \n",
       "\n",
       "[5 rows x 26 columns]"
      ]
     },
     "execution_count": 5,
     "metadata": {},
     "output_type": "execute_result"
    }
   ],
   "source": [
    "print(train.shape)\n",
    "train.head()"
   ]
  },
  {
   "cell_type": "code",
   "execution_count": 6,
   "metadata": {},
   "outputs": [
    {
     "data": {
      "text/html": [
       "<div>\n",
       "<style scoped>\n",
       "    .dataframe tbody tr th:only-of-type {\n",
       "        vertical-align: middle;\n",
       "    }\n",
       "\n",
       "    .dataframe tbody tr th {\n",
       "        vertical-align: top;\n",
       "    }\n",
       "\n",
       "    .dataframe thead th {\n",
       "        text-align: right;\n",
       "    }\n",
       "</style>\n",
       "<table border=\"1\" class=\"dataframe\">\n",
       "  <thead>\n",
       "    <tr style=\"text-align: right;\">\n",
       "      <th></th>\n",
       "      <th>unit_nr</th>\n",
       "      <th>time_cycles</th>\n",
       "      <th>RUL</th>\n",
       "    </tr>\n",
       "  </thead>\n",
       "  <tbody>\n",
       "    <tr>\n",
       "      <td>0</td>\n",
       "      <td>1</td>\n",
       "      <td>1</td>\n",
       "      <td>191</td>\n",
       "    </tr>\n",
       "    <tr>\n",
       "      <td>1</td>\n",
       "      <td>1</td>\n",
       "      <td>2</td>\n",
       "      <td>190</td>\n",
       "    </tr>\n",
       "    <tr>\n",
       "      <td>2</td>\n",
       "      <td>1</td>\n",
       "      <td>3</td>\n",
       "      <td>189</td>\n",
       "    </tr>\n",
       "    <tr>\n",
       "      <td>3</td>\n",
       "      <td>1</td>\n",
       "      <td>4</td>\n",
       "      <td>188</td>\n",
       "    </tr>\n",
       "    <tr>\n",
       "      <td>4</td>\n",
       "      <td>1</td>\n",
       "      <td>5</td>\n",
       "      <td>187</td>\n",
       "    </tr>\n",
       "  </tbody>\n",
       "</table>\n",
       "</div>"
      ],
      "text/plain": [
       "   unit_nr  time_cycles  RUL\n",
       "0        1            1  191\n",
       "1        1            2  190\n",
       "2        1            3  189\n",
       "3        1            4  188\n",
       "4        1            5  187"
      ]
     },
     "execution_count": 6,
     "metadata": {},
     "output_type": "execute_result"
    }
   ],
   "source": [
    "def add_remaining_useful_life(df):\n",
    "    # Get the total number of cycles for each unit\n",
    "    grouped_by_unit = df.groupby(by=\"unit_nr\")\n",
    "    max_cycle = grouped_by_unit[\"time_cycles\"].max()\n",
    "    \n",
    "    # Merge the max cycle back into the original frame\n",
    "    result_frame = df.merge(max_cycle.to_frame(name='max_cycle'), left_on='unit_nr', right_index=True)\n",
    "    \n",
    "    # Calculate remaining useful life for each row\n",
    "    remaining_useful_life = result_frame[\"max_cycle\"] - result_frame[\"time_cycles\"]\n",
    "    result_frame[\"RUL\"] = remaining_useful_life\n",
    "    \n",
    "    # drop max_cycle as it's no longer needed\n",
    "    result_frame = result_frame.drop(\"max_cycle\", axis=1)\n",
    "    return result_frame\n",
    "\n",
    "train = add_remaining_useful_life(train)\n",
    "train[index_names+['RUL']].head()"
   ]
  },
  {
   "cell_type": "markdown",
   "metadata": {},
   "source": [
    "# Modelling"
   ]
  },
  {
   "cell_type": "code",
   "execution_count": 7,
   "metadata": {},
   "outputs": [],
   "source": [
    "X_train = train[sensor_names].copy()\n",
    "y_train = train['RUL'].copy()\n",
    "y_train_clipped = y_train.clip(upper=125)\n",
    "\n",
    "X_test = test.drop(['time_cycles']+setting_names, axis=1).groupby('unit_nr').last().copy()  # get the last row of each engine"
   ]
  },
  {
   "cell_type": "code",
   "execution_count": 8,
   "metadata": {},
   "outputs": [],
   "source": [
    "scaler = MinMaxScaler()\n",
    "scaler.fit(X_train[sensor_names])\n",
    "X_train_scaled = X_train.copy()\n",
    "X_train_scaled[sensor_names] = pd.DataFrame(scaler.transform(X_train[sensor_names]), columns=sensor_names)\n",
    "\n",
    "\n",
    "X_test_scaled = X_test.copy()\n",
    "X_test_scaled[sensor_names] = pd.DataFrame(scaler.transform(X_test[sensor_names]), columns=sensor_names, index=X_test.index)"
   ]
  },
  {
   "cell_type": "code",
   "execution_count": 9,
   "metadata": {},
   "outputs": [
    {
     "name": "stdout",
     "output_type": "stream",
     "text": [
      "train_split_engines [  2   3   4   6   7   8   9  10  12  14  15  16  17  18  20  21  22  24\n",
      "  25  26  27  28  29  30  33  35  36  37  38  39  41  42  43  44  47  48\n",
      "  49  50  51  52  53  55  56  57  58  59  60  61  62  63  64  65  66  67\n",
      "  68  69  70  72  73  75  76  79  80  82  83  85  86  87  88  89  90  92\n",
      "  93  94  95  96  97  98  99 100] \n",
      "\n",
      "validate_split_engines [ 1  5 11 13 19 23 31 32 34 40 45 46 54 71 74 77 78 81 84 91] \n",
      "\n"
     ]
    }
   ],
   "source": [
    "# eventhough we set np and tf seeds, gss requires its own seed\n",
    "gss = GroupShuffleSplit(n_splits=1, train_size=0.80, random_state=42)  \n",
    "\n",
    "def train_val_group_split(X, y, gss, groups, print_groups=True):\n",
    "    \n",
    "    for idx_train, idx_val in gss.split(X, y, groups=groups):\n",
    "        if print_groups:\n",
    "            print('train_split_engines', train.iloc[idx_train]['unit_nr'].unique(), '\\n')\n",
    "            print('validate_split_engines', train.iloc[idx_val]['unit_nr'].unique(), '\\n')\n",
    "\n",
    "        X_train_split = X.iloc[idx_train].copy()\n",
    "        y_train_split = y.iloc[idx_train].copy()\n",
    "        X_val_split = X.iloc[idx_val].copy()\n",
    "        y_val_split = y.iloc[idx_val].copy()\n",
    "    return X_train_split, y_train_split, X_val_split, y_val_split\n",
    "\n",
    "split_result = train_val_group_split(X_train_scaled, y_train_clipped, gss, train['unit_nr'], print_groups=True)\n",
    "X_train_split_scaled, y_train_clipped_split_scaled, X_val_split_scaled, y_val_clipped_split_scaled = split_result"
   ]
  },
  {
   "cell_type": "code",
   "execution_count": 10,
   "metadata": {},
   "outputs": [],
   "source": [
    "train_cols = sensor_names  # + setting_names\n",
    "input_dim = len(train_cols)\n",
    "\n",
    "model = Sequential()\n",
    "model.add(Dense(16, input_dim=input_dim, activation='relu'))\n",
    "model.add(Dense(32, activation='relu'))\n",
    "model.add(Dense(64, activation='relu'))\n",
    "model.add(Dense(1))"
   ]
  },
  {
   "cell_type": "code",
   "execution_count": 11,
   "metadata": {},
   "outputs": [],
   "source": [
    "model.compile(loss='mean_squared_error', optimizer='adam')\n",
    "model.save_weights('reproducible_primer_weights.h5')  # important, weights are saved after compiling the model"
   ]
  },
  {
   "cell_type": "markdown",
   "metadata": {},
   "source": [
    "## Step 2: save model weights for later reuse\n",
    "After training a model the first time, you want to be able to reset it's state to the original values. This includes the optimizer parameters and the model weights.  \n",
    "The optimizer is reset by recompining the model, but recompiling generates a new set of random weights (from the seed you've set). Therefore, you need to load the original weights to get reproducible results."
   ]
  },
  {
   "cell_type": "code",
   "execution_count": 12,
   "metadata": {},
   "outputs": [
    {
     "name": "stdout",
     "output_type": "stream",
     "text": [
      "Train on 16561 samples, validate on 4070 samples\n",
      "Epoch 1/20\n",
      "16561/16561 [==============================] - 2s 132us/sample - loss: 2301.6502 - val_loss: 421.9053\n",
      "Epoch 2/20\n",
      "16561/16561 [==============================] - 2s 92us/sample - loss: 432.1362 - val_loss: 364.5692\n",
      "Epoch 3/20\n",
      "16561/16561 [==============================] - 1s 63us/sample - loss: 397.5807 - val_loss: 329.9561\n",
      "Epoch 4/20\n",
      "16561/16561 [==============================] - 1s 57us/sample - loss: 379.3664 - val_loss: 317.8431\n",
      "Epoch 5/20\n",
      "16561/16561 [==============================] - 1s 64us/sample - loss: 370.3313 - val_loss: 309.5288\n",
      "Epoch 6/20\n",
      "16561/16561 [==============================] - 1s 61us/sample - loss: 364.8850 - val_loss: 303.8538\n",
      "Epoch 7/20\n",
      "16561/16561 [==============================] - 1s 58us/sample - loss: 359.3875 - val_loss: 298.7764\n",
      "Epoch 8/20\n",
      "16561/16561 [==============================] - 1s 59us/sample - loss: 356.1165 - val_loss: 299.1210\n",
      "Epoch 9/20\n",
      "16561/16561 [==============================] - 1s 56us/sample - loss: 353.3764 - val_loss: 292.9368\n",
      "Epoch 10/20\n",
      "16561/16561 [==============================] - 1s 56us/sample - loss: 352.1041 - val_loss: 301.1336\n",
      "Epoch 11/20\n",
      "16561/16561 [==============================] - 1s 58us/sample - loss: 351.0232 - val_loss: 291.9363\n",
      "Epoch 12/20\n",
      "16561/16561 [==============================] - 1s 56us/sample - loss: 347.4852 - val_loss: 289.1906\n",
      "Epoch 13/20\n",
      "16561/16561 [==============================] - 1s 57us/sample - loss: 344.7926 - val_loss: 288.5135\n",
      "Epoch 14/20\n",
      "16561/16561 [==============================] - 1s 55us/sample - loss: 343.5889 - val_loss: 292.0521\n",
      "Epoch 15/20\n",
      "16561/16561 [==============================] - 1s 55us/sample - loss: 345.5568 - val_loss: 280.9507\n",
      "Epoch 16/20\n",
      "16561/16561 [==============================] - 1s 57us/sample - loss: 341.0334 - val_loss: 281.2983\n",
      "Epoch 17/20\n",
      "16561/16561 [==============================] - 1s 62us/sample - loss: 340.5049 - val_loss: 294.6393\n",
      "Epoch 18/20\n",
      "16561/16561 [==============================] - 1s 68us/sample - loss: 341.5728 - val_loss: 278.9326\n",
      "Epoch 19/20\n",
      "16561/16561 [==============================] - 1s 73us/sample - loss: 337.1285 - val_loss: 280.6086\n",
      "Epoch 20/20\n",
      "16561/16561 [==============================] - 1s 59us/sample - loss: 336.5685 - val_loss: 283.4204\n"
     ]
    }
   ],
   "source": [
    "epochs = 20\n",
    "\n",
    "# reset initial optimizer parameters by recompiling model\n",
    "# and reset initial model weights to allow repeated running of cell with consistent results\n",
    "model.compile(loss='mean_squared_error', optimizer='adam')\n",
    "model.load_weights('reproducible_primer_weights.h5')\n",
    "\n",
    "history = model.fit(X_train_split_scaled[train_cols], y_train_clipped_split_scaled,\n",
    "                    validation_data=(X_val_split_scaled[train_cols], y_val_clipped_split_scaled),\n",
    "                    epochs=epochs)"
   ]
  },
  {
   "cell_type": "code",
   "execution_count": 13,
   "metadata": {},
   "outputs": [
    {
     "data": {
      "image/png": "[encoded data removed]",
      "text/plain": [
       "<Figure size 936x360 with 1 Axes>"
      ]
     },
     "metadata": {},
     "output_type": "display_data"
    }
   ],
   "source": [
    "def plot_loss(fit_history):\n",
    "    plt.figure(figsize=(13,5))\n",
    "    plt.plot(range(1, len(fit_history.history['loss'])+1), fit_history.history['loss'], label='train')\n",
    "    plt.plot(range(1, len(fit_history.history['val_loss'])+1), fit_history.history['val_loss'], label='validate')\n",
    "    plt.xlabel('Epochs')\n",
    "    plt.ylabel('Loss')\n",
    "    plt.legend()\n",
    "    plt.show()\n",
    "\n",
    "plot_loss(history)"
   ]
  },
  {
   "cell_type": "code",
   "execution_count": 14,
   "metadata": {},
   "outputs": [],
   "source": [
    "def evaluate(y_true, y_hat, label='test'):\n",
    "    mse = mean_squared_error(y_true, y_hat)\n",
    "    rmse = np.sqrt(mse)\n",
    "    variance = r2_score(y_true, y_hat)\n",
    "    print('{} set RMSE:{}, R2:{}'.format(label, rmse, variance))"
   ]
  },
  {
   "cell_type": "code",
   "execution_count": 15,
   "metadata": {},
   "outputs": [
    {
     "name": "stdout",
     "output_type": "stream",
     "text": [
      "train set RMSE:18.004364211864736, R2:0.813339453755806\n"
     ]
    }
   ],
   "source": [
    "# predict and evaluate\n",
    "y_hat_train = model.predict(X_train_scaled[train_cols])\n",
    "evaluate(y_train_clipped, y_hat_train, 'train')\n",
    "\n",
    "# y_hat_test = model.predict(X_test_scaled[train_cols])\n",
    "# evaluate(y_test, y_hat_test)"
   ]
  },
  {
   "cell_type": "markdown",
   "metadata": {},
   "source": [
    "# add smoothing"
   ]
  },
  {
   "cell_type": "code",
   "execution_count": 16,
   "metadata": {},
   "outputs": [],
   "source": [
    "def exponential_smoothing(df, sensors, n_samples, alpha=0.4):\n",
    "    df = df.copy()\n",
    "    # first, calculate the exponential weighted mean of desired sensors\n",
    "    df[sensors] = df.groupby('unit_nr')[sensors].apply(lambda x: x.ewm(alpha=alpha).mean())\n",
    "    \n",
    "    # second, drop first n_samples of each unit_nr to reduce filter delay\n",
    "    def create_mask(data, samples):\n",
    "        result = np.ones_like(data)\n",
    "        result[0:samples] = 0\n",
    "        return result\n",
    "    \n",
    "    mask = df.groupby('unit_nr')['unit_nr'].transform(create_mask, samples=n_samples).astype(bool)\n",
    "    df = df[mask]\n",
    "    \n",
    "    return df"
   ]
  },
  {
   "cell_type": "markdown",
   "metadata": {},
   "source": [
    "## Step 3:\n",
    "You can run the cells below with different values of alpha. When you decide to go back and use the initial value of alpha = 0.4, you get the same RMSE from the NN"
   ]
  },
  {
   "cell_type": "code",
   "execution_count": 17,
   "metadata": {},
   "outputs": [],
   "source": [
    "# prep data\n",
    "alpha = 0.4\n",
    "\n",
    "X_train_interim = train[index_names + sensor_names].copy()\n",
    "X_test_interim = test[index_names + sensor_names].copy()\n",
    "\n",
    "X_train_interim[sensor_names] = pd.DataFrame(scaler.transform(X_train_interim[sensor_names]), columns=sensor_names)\n",
    "X_test_interim[sensor_names] = pd.DataFrame(scaler.transform(X_test_interim[sensor_names]), columns=sensor_names)\n",
    "\n",
    "X_train_interim = exponential_smoothing(X_train_interim, sensor_names, 0, alpha)\n",
    "X_test_interim = exponential_smoothing(X_test_interim, sensor_names, 0, alpha)\n",
    "\n",
    "X_train_smooth = X_train_interim.drop(index_names, axis=1)\n",
    "X_test_smooth = X_test_interim.drop('time_cycles', axis=1).groupby('unit_nr').last().copy()"
   ]
  },
  {
   "cell_type": "code",
   "execution_count": 18,
   "metadata": {},
   "outputs": [],
   "source": [
    "split_result = train_val_group_split(X_train_smooth, y_train_clipped, gss, train['unit_nr'], print_groups=False)\n",
    "X_train_split_smooth, y_train_clipped_split_smooth, X_val_split_smooth, y_val_clipped_split_smooth = split_result"
   ]
  },
  {
   "cell_type": "code",
   "execution_count": 19,
   "metadata": {},
   "outputs": [
    {
     "name": "stdout",
     "output_type": "stream",
     "text": [
      "Train on 16561 samples, validate on 4070 samples\n",
      "Epoch 1/20\n",
      "16561/16561 [==============================] - 2s 104us/sample - loss: 2329.9827 - val_loss: 398.0225\n",
      "Epoch 2/20\n",
      "16561/16561 [==============================] - 1s 61us/sample - loss: 406.2162 - val_loss: 337.6243\n",
      "Epoch 3/20\n",
      "16561/16561 [==============================] - 1s 65us/sample - loss: 380.8759 - val_loss: 315.8910\n",
      "Epoch 4/20\n",
      "16561/16561 [==============================] - 1s 63us/sample - loss: 372.8627 - val_loss: 311.3165\n",
      "Epoch 5/20\n",
      "16561/16561 [==============================] - 1s 62us/sample - loss: 370.6699 - val_loss: 308.2596\n",
      "Epoch 6/20\n",
      "16561/16561 [==============================] - 1s 67us/sample - loss: 368.6668 - val_loss: 302.1523\n",
      "Epoch 7/20\n",
      "16561/16561 [==============================] - 1s 68us/sample - loss: 364.0241 - val_loss: 299.3743\n",
      "Epoch 8/20\n",
      "16561/16561 [==============================] - 1s 61us/sample - loss: 359.5961 - val_loss: 295.8907\n",
      "Epoch 9/20\n",
      "16561/16561 [==============================] - 1s 61us/sample - loss: 354.4997 - val_loss: 287.9995\n",
      "Epoch 10/20\n",
      "16561/16561 [==============================] - 1s 59us/sample - loss: 348.8014 - val_loss: 286.1727\n",
      "Epoch 11/20\n",
      "16561/16561 [==============================] - 1s 67us/sample - loss: 344.7535 - val_loss: 279.6822\n",
      "Epoch 12/20\n",
      "16561/16561 [==============================] - 1s 59us/sample - loss: 339.1559 - val_loss: 276.1613\n",
      "Epoch 13/20\n",
      "16561/16561 [==============================] - 1s 62us/sample - loss: 333.1796 - val_loss: 271.6287\n",
      "Epoch 14/20\n",
      "16561/16561 [==============================] - 1s 58us/sample - loss: 329.0121 - val_loss: 276.0835\n",
      "Epoch 15/20\n",
      "16561/16561 [==============================] - 1s 58us/sample - loss: 328.3134 - val_loss: 261.8976\n",
      "Epoch 16/20\n",
      "16561/16561 [==============================] - 1s 60us/sample - loss: 325.2139 - val_loss: 271.7145\n",
      "Epoch 17/20\n",
      "16561/16561 [==============================] - 1s 64us/sample - loss: 323.7677 - val_loss: 274.5235\n",
      "Epoch 18/20\n",
      "16561/16561 [==============================] - 1s 57us/sample - loss: 323.9837 - val_loss: 258.4319\n",
      "Epoch 19/20\n",
      "16561/16561 [==============================] - 1s 58us/sample - loss: 319.4420 - val_loss: 257.8707\n",
      "Epoch 20/20\n",
      "16561/16561 [==============================] - 1s 59us/sample - loss: 319.0945 - val_loss: 256.8070\n"
     ]
    }
   ],
   "source": [
    "# reset initial optimizer parameters by recompiling model\n",
    "# and reload initial model weights to allow repeated running of cell with consistent results\n",
    "model.compile(loss='mean_squared_error', optimizer='adam')\n",
    "model.load_weights('reproducible_primer_weights.h5')\n",
    "\n",
    "history = model.fit(X_train_split_smooth[train_cols], y_train_clipped_split_smooth,\n",
    "                    validation_data=(X_val_split_smooth[train_cols], y_val_clipped_split_smooth),\n",
    "                    epochs=epochs)"
   ]
  },
  {
   "cell_type": "code",
   "execution_count": 20,
   "metadata": {},
   "outputs": [
    {
     "data": {
      "image/png": "[encoded data removed]",
      "text/plain": [
       "<Figure size 936x360 with 1 Axes>"
      ]
     },
     "metadata": {},
     "output_type": "display_data"
    }
   ],
   "source": [
    "plot_loss(history)"
   ]
  },
  {
   "cell_type": "code",
   "execution_count": 21,
   "metadata": {},
   "outputs": [
    {
     "name": "stdout",
     "output_type": "stream",
     "text": [
      "train set RMSE:17.433590186466215, R2:0.8249868754417847\n"
     ]
    }
   ],
   "source": [
    "# predict and evaluate\n",
    "y_hat_train = model.predict(X_train_smooth[train_cols])\n",
    "evaluate(y_train_clipped, y_hat_train, 'train')"
   ]
  },
  {
   "cell_type": "code",
   "execution_count": 22,
   "metadata": {},
   "outputs": [
    {
     "name": "stdout",
     "output_type": "stream",
     "text": [
      "test set RMSE:18.681100442307972, R2:0.7979097473627429\n"
     ]
    }
   ],
   "source": [
    "# only run the test set once you're happy with the preprocessing\n",
    "y_hat_test = model.predict(X_test_smooth[train_cols])\n",
    "evaluate(y_test, y_hat_test)"
   ]
  },
  {
   "cell_type": "markdown",
   "metadata": {},
   "source": [
    "Unfortunately smoothing the data for FD001 makes the predictions worse, but that's besides the point. The point is, you can go back and forth between preprocessing and training, trying different settings and when you want to use a previous setting you can be assured the results are the same."
   ]
  },
  {
   "cell_type": "markdown",
   "metadata": {},
   "source": [
    "The initial NN developed here (without smoothing or feature selection) already has an RMSE of 18.50 on the FD001 dataset. A whopping 42% improvement over the baseline model and a big improvement over the previous best, which was a SVR with an RMSE of 20.54 (and an overall improvent of 35.7% on the baseline model). In my next article, we'll delve into FD002 in which the turbofan engines run on different operating conditions and the exponential smoothing does have a beneficial effect."
   ]
  }
 ],
 "metadata": {
  "kernelspec": {
   "display_name": "Python 3",
   "language": "python",
   "name": "python3"
  },
  "language_info": {
   "codemirror_mode": {
    "name": "ipython",
    "version": 3
   },
   "file_extension": ".py",
   "mimetype": "text/x-python",
   "name": "python",
   "nbconvert_exporter": "python",
   "pygments_lexer": "ipython3",
   "version": "3.6.9"
  }
 },
 "nbformat": 4,
 "nbformat_minor": 4
}
